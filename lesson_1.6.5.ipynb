{
 "cells": [
  {
   "cell_type": "code",
   "execution_count": 5,
   "metadata": {},
   "outputs": [],
   "source": [
    "from selenium import webdriver\n",
    "from selenium.webdriver.common.by import By\n",
    "import math\n",
    "import time"
   ]
  },
  {
   "cell_type": "code",
   "execution_count": 7,
   "metadata": {},
   "outputs": [
    {
     "name": "stderr",
     "output_type": "stream",
     "text": [
      "The chromedriver version (120.0.6099.224) detected in PATH at /bin/chromedriver might not be compatible with the detected chrome version (121.0.6167.85); currently, chromedriver 121.0.6167.85 is recommended for chrome 121.*, so it is advised to delete the driver in PATH and retry\n"
     ]
    }
   ],
   "source": [
    "try:\n",
    "    link = \" http://suninjuly.github.io/find_link_text\"\n",
    "    chrome = webdriver.Chrome()\n",
    "    chrome.get(link)\n",
    "\n",
    "    link1 = chrome.find_element(By.LINK_TEXT, str(math.ceil(math.pow(math.pi, math.e)*10000)))\n",
    "    link1.click()\n",
    "\n",
    "    input1 = chrome.find_element(By.TAG_NAME, \"input\")\n",
    "    input1.send_keys(\"Ivan\")\n",
    "    input2 = chrome.find_element(By.NAME, \"last_name\")\n",
    "    input2.send_keys(\"Petrov\")\n",
    "    input3 = chrome.find_element(By.CLASS_NAME, \"city\")\n",
    "    input3.send_keys(\"Smolensk\")\n",
    "    input4 = chrome.find_element(By.ID, \"country\")\n",
    "    input4.send_keys(\"Russia\")\n",
    "    button = chrome.find_element(By.CSS_SELECTOR, \"button.btn\")\n",
    "    button.click()\n",
    "    time.sleep(10)\n",
    "finally:\n",
    "    chrome.quit()\n"
   ]
  }
 ],
 "metadata": {
  "kernelspec": {
   "display_name": "Python 3",
   "language": "python",
   "name": "python3"
  },
  "language_info": {
   "codemirror_mode": {
    "name": "ipython",
    "version": 3
   },
   "file_extension": ".py",
   "mimetype": "text/x-python",
   "name": "python",
   "nbconvert_exporter": "python",
   "pygments_lexer": "ipython3",
   "version": "3.9.18"
  }
 },
 "nbformat": 4,
 "nbformat_minor": 2
}
